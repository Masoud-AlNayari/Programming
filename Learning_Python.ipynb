{
 "cells": [
  {
   "cell_type": "markdown",
   "metadata": {},
   "source": [
    "# Import Packages"
   ]
  },
  {
   "cell_type": "markdown",
   "metadata": {},
   "source": [
    "<br>"
   ]
  },
  {
   "cell_type": "code",
   "execution_count": 7,
   "metadata": {},
   "outputs": [],
   "source": [
    "import numpy as np\n",
    "import pandas as pd\n",
    "import matplotlib.pyplot as plt\n",
    "import seaborn as sns\n"
   ]
  },
  {
   "cell_type": "markdown",
   "metadata": {},
   "source": [
    "## 1. Learning Lists and Arrays"
   ]
  },
  {
   "cell_type": "markdown",
   "metadata": {},
   "source": [
    "There are four collection data types in the Python programming language:\n",
    "\n",
    "* **List** is a collection which is ordered and changeable. Allows duplicate members.\n",
    "* **Tuple** is a collection which is ordered and unchangeable. Allows duplicate members.\n",
    "* **Set** is a collection which is unordered and unindexed. No duplicate members.\n",
    "* **Dictionary** is a collection which is ordered* and changeable. No duplicate members."
   ]
  },
  {
   "cell_type": "markdown",
   "metadata": {},
   "source": [
    "In addition to the built-in collections, there is **numpy array** and **pandas dataframe**."
   ]
  },
  {
   "cell_type": "markdown",
   "metadata": {},
   "source": [
    "### a. Python Lists"
   ]
  },
  {
   "cell_type": "markdown",
   "metadata": {},
   "source": [
    "1. Lists are created using square brackets\n",
    "2. List items are ordered, changeable, and allow duplicate values.\n",
    "3. List items are indexed, the first item has index [0], the second item has index [1] etc.\n",
    "4. If you add new items to a list, the new items will be placed at the end of the list.\n",
    "5. The list is changeable, meaning that we can change, add, and remove items in a list after it has been created.\n",
    "6. Since lists are indexed, lists can have items with the same value\n",
    "7. From Python's perspective, lists are defined as objects with the data type 'list'\n",
    "8. It is also possible to use the list() constructor when creating a new list."
   ]
  },
  {
   "cell_type": "code",
   "execution_count": 27,
   "metadata": {},
   "outputs": [
    {
     "name": "stdout",
     "output_type": "stream",
     "text": [
      "listA has 3 elements\n",
      "['Oman', 'UK', 'Oman']\n",
      "['UK', 'Oman']\n",
      "[12, 2]\n",
      "------------------ Just a break --------------------\n",
      "<class 'list'>\n",
      "2\n",
      "Yes, Oman is in listA\n"
     ]
    },
    {
     "ename": "AttributeError",
     "evalue": "'list' object has no attribute 'add'",
     "output_type": "error",
     "traceback": [
      "\u001b[1;31m---------------------------------------------------------------------------\u001b[0m",
      "\u001b[1;31mAttributeError\u001b[0m                            Traceback (most recent call last)",
      "\u001b[1;32m<ipython-input-27-48b4258e38ec>\u001b[0m in \u001b[0;36m<module>\u001b[1;34m\u001b[0m\n\u001b[0;32m     19\u001b[0m     \u001b[0mprint\u001b[0m\u001b[1;33m(\u001b[0m\u001b[1;34m\"Yes, Oman is in listA\"\u001b[0m\u001b[1;33m)\u001b[0m\u001b[1;33m\u001b[0m\u001b[1;33m\u001b[0m\u001b[0m\n\u001b[0;32m     20\u001b[0m \u001b[1;33m\u001b[0m\u001b[0m\n\u001b[1;32m---> 21\u001b[1;33m \u001b[0mprint\u001b[0m\u001b[1;33m(\u001b[0m\u001b[0mlistB\u001b[0m\u001b[1;33m.\u001b[0m\u001b[0madd\u001b[0m\u001b[1;33m(\u001b[0m\u001b[1;34m\"me\"\u001b[0m\u001b[1;33m)\u001b[0m\u001b[1;33m)\u001b[0m\u001b[1;33m\u001b[0m\u001b[1;33m\u001b[0m\u001b[0m\n\u001b[0m",
      "\u001b[1;31mAttributeError\u001b[0m: 'list' object has no attribute 'add'"
     ]
    }
   ],
   "source": [
    "# creating lists\n",
    "listA = [\"Oman\", \"UK\", \"US\"] # using square brackets\n",
    "listB = list((20, 12, 2)) # using list() constructor\n",
    "\n",
    "# returning the length of the lists\n",
    "print(\"listA has {} elements\".format(len(listA)))\n",
    "\n",
    "# accessing specific items in the list\n",
    "listA[2] = \"Oman\"\n",
    "print(listA)\n",
    "print(listA[1:]) # get more than one item using colon : \n",
    "print(listB[-2:])\n",
    "print(\"------------------ Just a break --------------------\")\n",
    "print(type(listB)) # print list type\n",
    "print(listB[-1]) # access last item in the list\n",
    "\n",
    "# check if an item is in the list\n",
    "if \"Oman\" in listA:\n",
    "    print(\"Yes, Oman is in listA\")\n",
    "\n",
    "print(listB.add(\"me\"))"
   ]
  },
  {
   "cell_type": "code",
   "execution_count": null,
   "metadata": {},
   "outputs": [],
   "source": []
  }
 ],
 "metadata": {
  "kernelspec": {
   "display_name": "Python [conda env:Masoud]",
   "language": "python",
   "name": "conda-env-Masoud-py"
  },
  "language_info": {
   "codemirror_mode": {
    "name": "ipython",
    "version": 3
   },
   "file_extension": ".py",
   "mimetype": "text/x-python",
   "name": "python",
   "nbconvert_exporter": "python",
   "pygments_lexer": "ipython3",
   "version": "3.7.9"
  }
 },
 "nbformat": 4,
 "nbformat_minor": 4
}
